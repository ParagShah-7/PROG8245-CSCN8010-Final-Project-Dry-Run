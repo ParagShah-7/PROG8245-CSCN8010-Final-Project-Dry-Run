{
 "cells": [
  {
   "cell_type": "markdown",
   "id": "35f3510e",
   "metadata": {},
   "source": [
    "## 1. Purpose of the App\n",
    "The app analyzes NLP prompts to estimate their energy consumption and suggests optimized, energy-efficient alternatives.\n",
    "\n",
    "##  2. Complexity & Energy Estimation\n",
    "compute_complexity(prompt): Uses BERT tokenizer to count tokens, representing the prompt’s computational complexity.\n",
    "\n",
    "estimate_energy(layers, time, flops, complexity): Estimates energy in kWh based on LLM layers, training time, FLOPs/hour, and prompt complexity.\n",
    "\n",
    "## 3. Prompt Optimization\n",
    "generate_multiple_prompts(prompt): Uses the T5-small model to generate simplified versions of the prompt using different decoding strategies (greedy, top-k, top-p, beam search).\n",
    "\n",
    "Each variant is evaluated for complexity and estimated energy.\n",
    "\n",
    "## 4. Prompt Classification\n",
    "predict_category(prompt): Loads a pre-trained classifier from prompt_classifier.pkl to categorize the type of prompt (e.g., informative, creative).\n",
    "\n",
    "## 5. Streamlit Interface (GUI.py)\n",
    "Text input for the prompt, LLM layers, training time, and FLOPs/hour.\n",
    "\n",
    "Two main buttons:\n",
    "\n",
    "Submit: Calculates and displays complexity, energy use, and predicted category.\n",
    "\n",
    "Improve: Shows multiple optimized prompts with reduced energy and complexity.\n",
    "\n",
    "## 6. Code Structure\n",
    "nlp_module.py: NLP logic—tokenization, summarization, energy calculation.\n",
    "\n",
    "prediction_module.py: Loads classifier model and predicts prompt type.\n",
    "\n",
    "GUI.py: Streamlit frontend for user interaction.\n",
    "\n",
    "integration.py: Legacy version combining all logic (now split into modules for clarity)."
   ]
  }
 ],
 "metadata": {
  "kernelspec": {
   "display_name": "Python 3",
   "language": "python",
   "name": "python3"
  },
  "language_info": {
   "name": "python",
   "version": "3.10.11"
  }
 },
 "nbformat": 4,
 "nbformat_minor": 5
}
